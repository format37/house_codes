{
 "cells": [
  {
   "cell_type": "code",
   "execution_count": 17,
   "id": "dfa129c6",
   "metadata": {},
   "outputs": [],
   "source": [
    "import pandas as pd\n",
    "import re"
   ]
  },
  {
   "cell_type": "code",
   "execution_count": 18,
   "id": "828d1271",
   "metadata": {},
   "outputs": [],
   "source": [
    "df = pd.read_csv('moscow_codes.csv')"
   ]
  },
  {
   "cell_type": "code",
   "execution_count": 19,
   "id": "1f6a9376",
   "metadata": {},
   "outputs": [],
   "source": [
    "def get_code(df, addr):\n",
    "    address_street = (re.findall(r'a.*b', addr)[0][1:][:-1]).lower()\n",
    "    address_house = re.findall(r'c.*d', addr)[0][1:][:-1]\n",
    "    address_entrance = re.findall(r'e.*f', addr)[0][1:][:-1]\n",
    "    mask = \\\n",
    "        (1 if address_street=='' else (df.street_low.str.contains(address_street))) & \\\n",
    "        (1 if address_house=='' else (df.address_house==address_house)) & \\\n",
    "        (1 if address_entrance=='' else (df.address_entrance==address_entrance))\n",
    "    result = set(df[mask].address_doorcode)\n",
    "    return len(result) if address_street=='' or address_house=='' or address_entrance=='' else result "
   ]
  },
  {
   "cell_type": "code",
   "execution_count": 20,
   "id": "74feb12d",
   "metadata": {},
   "outputs": [
    {
     "data": {
      "text/plain": [
       "{'*132#118#', '154#225', '161#0000', '196#026'}"
      ]
     },
     "execution_count": 20,
     "metadata": {},
     "output_type": "execute_result"
    }
   ],
   "source": [
    "addr = 'aянгеляb c2d e2f'\n",
    "\n",
    "get_code(df,addr)"
   ]
  }
 ],
 "metadata": {
  "kernelspec": {
   "display_name": "Python (ml04)",
   "language": "python",
   "name": "ml04"
  },
  "language_info": {
   "codemirror_mode": {
    "name": "ipython",
    "version": 3
   },
   "file_extension": ".py",
   "mimetype": "text/x-python",
   "name": "python",
   "nbconvert_exporter": "python",
   "pygments_lexer": "ipython3",
   "version": "3.7.13"
  }
 },
 "nbformat": 4,
 "nbformat_minor": 5
}
