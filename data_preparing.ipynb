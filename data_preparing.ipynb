{
 "cells": [
  {
   "cell_type": "code",
   "execution_count": 1,
   "id": "d1da0615",
   "metadata": {},
   "outputs": [],
   "source": [
    "import os\n",
    "import pandas as pd\n",
    "import re"
   ]
  },
  {
   "cell_type": "code",
   "execution_count": 2,
   "id": "9a21c0de",
   "metadata": {},
   "outputs": [],
   "source": [
    "# 1. list files, wich names contains 'moscow'\n",
    "path = 'data/'\n",
    "files = [path+f for f in os.listdir(path) if 'moscow' in f]"
   ]
  },
  {
   "cell_type": "code",
   "execution_count": null,
   "id": "2f5e51cc",
   "metadata": {},
   "outputs": [],
   "source": [
    "# 2. read each file as csv to pandas dataframe\n",
    "dfs = [pd.read_csv(f) for f in files]\n",
    "# 3. merge dataframes to a single one\n",
    "df = pd.concat(dfs)"
   ]
  },
  {
   "cell_type": "code",
   "execution_count": null,
   "id": "9bba2f3b",
   "metadata": {},
   "outputs": [],
   "source": [
    "df['street_low']=df.address_street.str.lower()\n",
    "df = df[df['address_doorcode'].notnull()]\n",
    "df = df[df['address_doorcode'].str.len() > 3]\n",
    "df = df[~df['address_doorcode'].str.lower().str.contains('кон')]"
   ]
  },
  {
   "cell_type": "code",
   "execution_count": null,
   "id": "fbbfe64d",
   "metadata": {},
   "outputs": [],
   "source": [
    "allowable = ['street_low','address_house','address_entrance','address_doorcode']\n",
    "dropable = [x for x in list(df.columns) if x not in allowable]\n",
    "df.drop(columns=dropable, inplace=True)\n",
    "df.to_csv('data.csv', index=False)"
   ]
  },
  {
   "cell_type": "code",
   "execution_count": null,
   "id": "7c3994b7",
   "metadata": {},
   "outputs": [],
   "source": [
    "len(df)"
   ]
  }
 ],
 "metadata": {
  "kernelspec": {
   "display_name": "Python (ml04)",
   "language": "python",
   "name": "ml04"
  },
  "language_info": {
   "codemirror_mode": {
    "name": "ipython",
    "version": 3
   },
   "file_extension": ".py",
   "mimetype": "text/x-python",
   "name": "python",
   "nbconvert_exporter": "python",
   "pygments_lexer": "ipython3",
   "version": "3.7.13"
  }
 },
 "nbformat": 4,
 "nbformat_minor": 5
}
